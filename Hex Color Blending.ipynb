{
 "cells": [
  {
   "cell_type": "markdown",
   "id": "531b5a8e-e6e2-46ac-a30e-33934a87d332",
   "metadata": {},
   "source": [
    "# Blending Hex Colors\n",
    "Find some colors and create a palette of hex color values with those as anchor points."
   ]
  },
  {
   "cell_type": "code",
   "execution_count": 1,
   "id": "8744ab05-6f86-4f93-94c7-079b8960e001",
   "metadata": {},
   "outputs": [],
   "source": [
    "import numpy as np\n",
    "from string import hexdigits\n",
    "import matplotlib.pyplot as plt\n",
    "from matplotlib.colors import to_rgba_array\n",
    "from mycolorpy import colorlist as mcp"
   ]
  },
  {
   "cell_type": "markdown",
   "id": "adc70ece-8982-490b-bafa-f97d35cffa1e",
   "metadata": {},
   "source": [
    "## [Go Find Some Colors](https://g.co/kgs/DDXXi4y)"
   ]
  },
  {
   "cell_type": "markdown",
   "id": "8019ecff-7d5d-4330-9224-c2cf39d0d687",
   "metadata": {},
   "source": [
    "## Hexadecimal Space\n",
    "like np.linspace, but with hexadecimals and a specified number of additions in the middle"
   ]
  },
  {
   "cell_type": "code",
   "execution_count": 2,
   "id": "23966fc3-8323-41a7-b95c-5abd3bea4f4f",
   "metadata": {},
   "outputs": [
    {
     "name": "stdout",
     "output_type": "stream",
     "text": [
      "\n",
      "    Given two hexadecimal numbers\n",
      "     and the number of intermediary numbers wanted\n",
      "    Returns linear distribution of hexes\n",
      "    \n",
      "['00', '3f', '7f', 'bf', 'ff']\n"
     ]
    }
   ],
   "source": [
    "def array_hexes(hex_one, hex_two, fillers=1):\n",
    "    \"\"\"\n",
    "    Given two hexadecimal numbers\n",
    "     and the number of intermediary numbers wanted\n",
    "    Returns linear distribution of hexes\n",
    "    \"\"\"\n",
    "    start_int = int(hex_one, 16)\n",
    "    end_int = int(hex_two, 16)\n",
    "    hexes = np.linspace(start_int, end_int, 2+fillers)\n",
    "    hexes = [f'{hex(int(n))[2:]:02}' for n in hexes]\n",
    "    \n",
    "    return hexes\n",
    "\n",
    "print(array_hexes.__doc__)\n",
    "print(array_hexes('00', 'ff', 3,))"
   ]
  },
  {
   "cell_type": "markdown",
   "id": "12192843-b6f4-4cf4-8607-3c4d321c8d65",
   "metadata": {},
   "source": [
    "## Hex Color Space\n",
    "creates a list of hex colors with a specified number of intermediatries"
   ]
  },
  {
   "cell_type": "code",
   "execution_count": 3,
   "id": "b0587fdd-ede7-43df-9006-053fa581aed0",
   "metadata": {},
   "outputs": [
    {
     "name": "stdout",
     "output_type": "stream",
     "text": [
      "\n",
      "    Given two hex-code colors\n",
      "     and the number of intermediary colors wanted\n",
      "    Returns linear distribution of hex colors\n",
      "    \n",
      "['#000000', '#333333', '#666666', '#999999', '#cccccc', '#ffffff']\n"
     ]
    }
   ],
   "source": [
    "def array_hex_colors(hex_color_one, hex_color_two, fillers=1):\n",
    "    \"\"\"\n",
    "    Given two hex-code colors\n",
    "     and the number of intermediary colors wanted\n",
    "    Returns linear distribution of hex colors\n",
    "    \"\"\"\n",
    "    reds = array_hexes(hex_color_one[1:3], hex_color_two[1:3], fillers)\n",
    "    greens = array_hexes(hex_color_one[3:5], hex_color_two[3:5], fillers)\n",
    "    blues = array_hexes(hex_color_one[5:7], hex_color_two[5:7], fillers)\n",
    "    colors = []\n",
    "    for i in range(fillers+2):\n",
    "        colors.append('#'+reds[i]+greens[i]+blues[i])\n",
    "    return colors\n",
    "    \n",
    "print(array_hex_colors.__doc__)\n",
    "print(array_hex_colors('#000000', '#ffffff', 4,))"
   ]
  },
  {
   "cell_type": "markdown",
   "id": "a7092e4b-c880-4c64-8d2d-bf1d42fa5715",
   "metadata": {},
   "source": [
    "## Hex Color Multi Space\n",
    "creates a list of colors, but with some specified intermediaries"
   ]
  },
  {
   "cell_type": "code",
   "execution_count": 4,
   "id": "8ed49976-b1c8-408c-9a6b-ec5f88b5a463",
   "metadata": {},
   "outputs": [
    {
     "name": "stdout",
     "output_type": "stream",
     "text": [
      "\n",
      "    Takes list of hex color codes\n",
      "      and number of fillers after each code\n",
      "      before the next hex color code\n",
      "      (last filler ignored, if provided)\n",
      "    Returns list of hex code colors with fillers\n",
      "    \n",
      "['#000000', '#550055', '#aa00aa', '#ff00ff', '#ff33ff', '#ff66ff', '#ff99ff', '#ffccff', '#ffffff']\n"
     ]
    }
   ],
   "source": [
    "def array_palette(hexes, fillers):\n",
    "    \"\"\"\n",
    "    Takes list of hex color codes\n",
    "      and number of fillers after each code\n",
    "      before the next hex color code\n",
    "      (last filler ignored, if provided)\n",
    "    Returns list of hex code colors with fillers\n",
    "    \"\"\"\n",
    "    color_list = []\n",
    "    for c in range(len(hexes)-1):\n",
    "        new_colors = array_hex_colors(hexes[c], hexes[c+1], fillers[c])\n",
    "        color_list = new_colors if c == 0 else color_list + new_colors[1:]\n",
    "    return color_list\n",
    "\n",
    "print(array_palette.__doc__)\n",
    "print(array_palette(['#000000', '#ff00ff', '#ffffff'], \n",
    "                    [2,          4]))"
   ]
  },
  {
   "cell_type": "markdown",
   "id": "7f18583e-e3d2-49d8-a698-165b43cc3c39",
   "metadata": {},
   "source": [
    "## Hex Color Palette Plot\n",
    "plots a list of hex colors"
   ]
  },
  {
   "cell_type": "code",
   "execution_count": 5,
   "id": "541c19c4-5fc1-450d-a562-49bb0a8cc1d0",
   "metadata": {},
   "outputs": [
    {
     "name": "stdout",
     "output_type": "stream",
     "text": [
      "\n",
      "    Takes list of color hex code colors\n",
      "    Plots these colors with hex labels\n",
      "    \n"
     ]
    }
   ],
   "source": [
    "def plot_palette(hexes):\n",
    "    \"\"\"\n",
    "    Takes list of color hex code colors\n",
    "    Plots these colors with hex labels\n",
    "    \"\"\"\n",
    "    \n",
    "    num_colors = len(hexes)\n",
    "    width = num_colors if num_colors < 16 else 16\n",
    "\n",
    "    fig, axes = plt.subplots(1, 1, figsize=(width,1))\n",
    "    axes.imshow(to_rgba_array(hexes).reshape(1, num_colors, 4))\n",
    "    axes.spines[:].set_visible(False)\n",
    "    axes.set_xticks(range(num_colors))\n",
    "    axes.set_xticklabels(hexes)\n",
    "    axes.set_yticks([])\n",
    "    if num_colors > 16:\n",
    "        plt.xticks(rotation=30)    \n",
    "    plt.show()\n",
    "\n",
    "print(plot_palette.__doc__)"
   ]
  },
  {
   "cell_type": "markdown",
   "id": "d20ceb05-f6f0-4c91-91c1-890e648cee9b",
   "metadata": {},
   "source": [
    "## Testing"
   ]
  },
  {
   "cell_type": "markdown",
   "id": "f03bb71c-036d-4cfb-899f-2a6cf2cadbf0",
   "metadata": {},
   "source": [
    "### [Find Colors](https://g.co/kgs/DDXXi4y)"
   ]
  },
  {
   "cell_type": "code",
   "execution_count": 6,
   "id": "2a3e0952-1977-402b-bde3-7eba46508a49",
   "metadata": {},
   "outputs": [
    {
     "name": "stdout",
     "output_type": "stream",
     "text": [
      "['#3f66d1', '#6c58d2', '#9a4ad4', '#b4319b', '#ce1862', '#e9002a']\n"
     ]
    },
    {
     "data": {
      "image/png": "[encoded data removed]",
      "text/plain": [
       "<Figure size 600x100 with 1 Axes>"
      ]
     },
     "metadata": {},
     "output_type": "display_data"
    }
   ],
   "source": [
    "color_palette = array_palette(['#3f66d1', '#9a4ad4', '#e9002a', ], \n",
    "                              [ 1,         2,                   ])\n",
    "                                # Blue     # Purple   # Red\n",
    "print(color_palette)\n",
    "plot_palette(color_palette)"
   ]
  },
  {
   "cell_type": "code",
   "execution_count": 7,
   "id": "84caf6c1-c00b-44ca-96ff-f43055560b63",
   "metadata": {},
   "outputs": [
    {
     "name": "stdout",
     "output_type": "stream",
     "text": [
      "['#eb3110', '#e96f32', '#e8ad55', '#e7eb78', '#b0e7b1', '#7ae3eb', '#6fcdea', '#65b8e9', '#5ba3e8', '#518ee8', '#6e84eb', '#8b7aee', '#a870f1', '#c567f5']\n"
     ]
    },
    {
     "data": {
      "image/png": "[encoded data removed]",
      "text/plain": [
       "<Figure size 1400x100 with 1 Axes>"
      ]
     },
     "metadata": {},
     "output_type": "display_data"
    }
   ],
   "source": [
    "color_palette = array_palette(['#eb3110', '#e7eb78', '#7ae3eb', '#518ee8', '#c567f5',], \n",
    "                              [ 2,         1,         3,         3,                  ])\n",
    "                                # Red      # Yellow   # L Blue   # M Blue   # Purple\n",
    "print(color_palette)\n",
    "plot_palette(color_palette)"
   ]
  }
 ],
 "metadata": {
  "kernelspec": {
   "display_name": "Python 3 (ipykernel)",
   "language": "python",
   "name": "python3"
  },
  "language_info": {
   "codemirror_mode": {
    "name": "ipython",
    "version": 3
   },
   "file_extension": ".py",
   "mimetype": "text/x-python",
   "name": "python",
   "nbconvert_exporter": "python",
   "pygments_lexer": "ipython3",
   "version": "3.12.4"
  }
 },
 "nbformat": 4,
 "nbformat_minor": 5
}
