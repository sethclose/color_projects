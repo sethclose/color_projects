{
 "cells": [
  {
   "cell_type": "markdown",
   "id": "531b5a8e-e6e2-46ac-a30e-33934a87d332",
   "metadata": {},
   "source": [
    "# Blending Hex Colors"
   ]
  },
  {
   "cell_type": "markdown",
   "id": "adc70ece-8982-490b-bafa-f97d35cffa1e",
   "metadata": {},
   "source": [
    "## [Pick Some Colors](https://g.co/kgs/DDXXi4y)"
   ]
  },
  {
   "cell_type": "code",
   "execution_count": 242,
   "id": "8744ab05-6f86-4f93-94c7-079b8960e001",
   "metadata": {},
   "outputs": [],
   "source": [
    "import numpy as np\n",
    "\n",
    "import matplotlib.pyplot as plt\n",
    "from matplotlib.colors import to_rgba_array\n",
    "from mycolorpy import colorlist as mcp\n",
    "\n",
    "from string import hexdigits"
   ]
  },
  {
   "cell_type": "markdown",
   "id": "a2de9469-a2a3-4d38-8ff9-3331132133b0",
   "metadata": {},
   "source": [
    "## Average Two Hexadecimal Numbers"
   ]
  },
  {
   "cell_type": "code",
   "execution_count": 364,
   "id": "ffe7d9f4-1b64-43c9-8e2e-ef4bd105da6c",
   "metadata": {},
   "outputs": [
    {
     "name": "stdout",
     "output_type": "stream",
     "text": [
      "\n",
      "    Given two hex-code numbers and\n",
      "    Returns this average hex-code\n",
      "    \n"
     ]
    }
   ],
   "source": [
    "def avg_hexes(hex_one, hex_two):\n",
    "    \"\"\"\n",
    "    Given two hex-code numbers and\n",
    "    Returns this average hex-code\n",
    "    \"\"\"    \n",
    "    one_int = int(hex_one, 16)\n",
    "    two_int = int(hex_two, 16)\n",
    "    mix_int = int(np.mean([one_int, two_int]))\n",
    "    mix_hex = hex(mix_int)[2:]\n",
    "    \n",
    "    return mix_hex\n",
    "    \n",
    "print(avg_hexes.__doc__)"
   ]
  },
  {
   "cell_type": "markdown",
   "id": "956e833a-5b4c-4e5a-b8a1-76e2df92acce",
   "metadata": {},
   "source": [
    "## Mix Two Hex-Code Colors"
   ]
  },
  {
   "cell_type": "code",
   "execution_count": 215,
   "id": "4ccfbc37-c689-4b49-ad19-3f6eaafd11a9",
   "metadata": {},
   "outputs": [
    {
     "name": "stdout",
     "output_type": "stream",
     "text": [
      "\n",
      "    Mixes two hex-code colors and\n",
      "    Returns this mixed hex-code\n",
      "    \n"
     ]
    }
   ],
   "source": [
    "def mix_colors(color_one, color_two):\n",
    "    \"\"\"\n",
    "    Mixes two hex-code colors and\n",
    "    Returns this mixed hex-code\n",
    "    \"\"\"\n",
    "    red_mix_hex = f\"{avg_hexes(color_one[1:3], color_two[1:3]):02}\"  \n",
    "    green_mix_hex = f\"{avg_hexes(color_one[3:5], color_two[3:5]):02}\"  \n",
    "    blue_mix_hex = f\"{avg_hexes(color_one[5:7], color_two[5:7]):02}\"  \n",
    "    mix_hex = '#' + red_mix_hex + green_mix_hex + blue_mix_hex\n",
    "    \n",
    "    return mix_hex\n",
    "    \n",
    "print(mix_colors.__doc__)    "
   ]
  },
  {
   "cell_type": "markdown",
   "id": "8019ecff-7d5d-4330-9224-c2cf39d0d687",
   "metadata": {},
   "source": [
    "## Hexadecimal Space"
   ]
  },
  {
   "cell_type": "code",
   "execution_count": 367,
   "id": "23966fc3-8323-41a7-b95c-5abd3bea4f4f",
   "metadata": {},
   "outputs": [
    {
     "name": "stdout",
     "output_type": "stream",
     "text": [
      "\n",
      "    Given two hexadecimal numbers\n",
      "     and the number of intermediary numbers wanted\n",
      "    Returns linear distribution of hexes\n",
      "    \n",
      "['00', '3f', '7f', 'bf', 'ff']\n"
     ]
    }
   ],
   "source": [
    "def array_hexes(hex_one, hex_two, fillers=1):\n",
    "    \"\"\"\n",
    "    Given two hexadecimal numbers\n",
    "     and the number of intermediary numbers wanted\n",
    "    Returns linear distribution of hexes\n",
    "    \"\"\"\n",
    "    start_int = int(hex_one, 16)\n",
    "    end_int = int(hex_two, 16)\n",
    "    hexes = np.linspace(start_int, end_int, 2+fillers)\n",
    "    hexes = [f'{hex(int(n))[2:]:02}' for n in hexes]\n",
    "    \n",
    "    return hexes\n",
    "\n",
    "print(array_hexes.__doc__)\n",
    "print(array_hexes('00', 'ff', 3,))"
   ]
  },
  {
   "cell_type": "markdown",
   "id": "12192843-b6f4-4cf4-8607-3c4d321c8d65",
   "metadata": {},
   "source": [
    "## Hex Color Space"
   ]
  },
  {
   "cell_type": "code",
   "execution_count": 263,
   "id": "b0587fdd-ede7-43df-9006-053fa581aed0",
   "metadata": {},
   "outputs": [
    {
     "name": "stdout",
     "output_type": "stream",
     "text": [
      "\n",
      "    Given two hex-code colors\n",
      "     and the number of intermediary colors wanted\n",
      "    Returns linear distribution of hex colors\n",
      "    \n",
      "['#000000', '#333333', '#666666', '#999999', '#cccccc', '#ffffff']\n"
     ]
    }
   ],
   "source": [
    "def array_hex_colors(hex_color_one, hex_color_two, fillers=1):\n",
    "    \"\"\"\n",
    "    Given two hex-code colors\n",
    "     and the number of intermediary colors wanted\n",
    "    Returns linear distribution of hex colors\n",
    "    \"\"\"\n",
    "    reds = array_hexes(hex_color_one[1:3], hex_color_two[1:3], fillers)\n",
    "    greens = array_hexes(hex_color_one[3:5], hex_color_two[3:5], fillers)\n",
    "    blues = array_hexes(hex_color_one[5:7], hex_color_two[5:7], fillers)\n",
    "    colors = []\n",
    "    for i in range(fillers+2):\n",
    "        colors.append('#'+reds[i]+greens[i]+blues[i])\n",
    "    return colors\n",
    "    \n",
    "print(array_hex_colors.__doc__)\n",
    "print(array_hex_colors('#000000', '#ffffff', 4,))"
   ]
  },
  {
   "cell_type": "markdown",
   "id": "e98cb120-4676-4673-a396-7c42be319852",
   "metadata": {},
   "source": [
    "## Hex Color Double Space"
   ]
  },
  {
   "cell_type": "code",
   "execution_count": 299,
   "id": "8dda7717-589f-437b-9844-6470b30635a1",
   "metadata": {},
   "outputs": [
    {
     "name": "stdout",
     "output_type": "stream",
     "text": [
      "\n",
      "    Given two hex-code colors\n",
      "     and the number of intermediary colors wanted\n",
      "    Returns linear distribution of hex colors\n",
      "    \n",
      "['#000000', '#550055', '#aa00aa', '#ff00ff', '#ff33ff', '#ff66ff', '#ff99ff', '#ffccff', '#ffffff']\n"
     ]
    }
   ],
   "source": [
    "def array_double_hex_colors(hex_color_one, hex_color_two, hex_color_three, fillers_one_two, fillers_two_three):\n",
    "    \"\"\"\n",
    "    Takes three hex code colors\n",
    "      and two numbers of fillers \n",
    "    Returns list of hex code colors with fillers\n",
    "    \"\"\"\n",
    "        \n",
    "    colors_one = array_hex_colors(hex_color_one, hex_color_two, fillers_one_two)\n",
    "    colors_two = array_hex_colors(hex_color_two, hex_color_three, fillers_two_three)\n",
    "  \n",
    "    return colors_one[:] + colors_two[1:]\n",
    "\n",
    "print(array_hex_colors.__doc__)\n",
    "print(array_double_hex_colors('#000000', '#ff00ff', '#ffffff', 2, 4))"
   ]
  },
  {
   "cell_type": "markdown",
   "id": "a7092e4b-c880-4c64-8d2d-bf1d42fa5715",
   "metadata": {},
   "source": [
    "## Hex Color Multi Space"
   ]
  },
  {
   "cell_type": "code",
   "execution_count": 358,
   "id": "8ed49976-b1c8-408c-9a6b-ec5f88b5a463",
   "metadata": {},
   "outputs": [
    {
     "name": "stdout",
     "output_type": "stream",
     "text": [
      "\n",
      "    Takes list of hex color codes\n",
      "      and number of fillers after each code\n",
      "      before the next hex color code\n",
      "      (last filler ignored, if provided)\n",
      "    Returns list of hex code colors with fillers\n",
      "    \n",
      "['#000000', '#550055', '#aa00aa', '#ff00ff', '#ff33ff', '#ff66ff', '#ff99ff', '#ffccff', '#ffffff']\n"
     ]
    }
   ],
   "source": [
    "def array_palette(hexes, fillers):\n",
    "    \"\"\"\n",
    "    Takes list of hex color codes\n",
    "      and number of fillers after each code\n",
    "      before the next hex color code\n",
    "      (last filler ignored, if provided)\n",
    "    Returns list of hex code colors with fillers\n",
    "    \"\"\"\n",
    "    color_list = []\n",
    "\n",
    "    for c in range(len(hexes)-1):\n",
    "        new_colors = array_hex_colors(hexes[c], hexes[c+1], fillers[c])\n",
    "        color_list = new_colors if c == 0 else color_list + new_colors[1:]\n",
    "    return color_list\n",
    "    \n",
    "    colors_one = array_hex_colors(hexes[0], hexes[1], fillers[0])\n",
    "    colors_two = array_hex_colors(hexes[1], hexes[2], fillers[1])\n",
    "  \n",
    "    return colors_one[:] + colors_two[1:]\n",
    "\n",
    "print(array_palette.__doc__)\n",
    "print(array_palette(['#000000', '#ff00ff', '#ffffff'], \n",
    "                    [2,          4]))"
   ]
  },
  {
   "cell_type": "markdown",
   "id": "7f18583e-e3d2-49d8-a698-165b43cc3c39",
   "metadata": {},
   "source": [
    "## Hex Color Palette Plot"
   ]
  },
  {
   "cell_type": "code",
   "execution_count": 357,
   "id": "541c19c4-5fc1-450d-a562-49bb0a8cc1d0",
   "metadata": {},
   "outputs": [
    {
     "name": "stdout",
     "output_type": "stream",
     "text": [
      "\n",
      "    Takes list of color hex code colors\n",
      "    Plots these colors with hex labels\n",
      "    \n"
     ]
    }
   ],
   "source": [
    "def plot_palette(hexes):\n",
    "    \"\"\"\n",
    "    Takes list of color hex code colors\n",
    "    Plots these colors with hex labels\n",
    "    \"\"\"\n",
    "    \n",
    "    num_colors = len(hexes)\n",
    "    width = num_colors if num_colors < 16 else 16\n",
    "\n",
    "    fig, axes = plt.subplots(1, 1, figsize=(width,1))\n",
    "    axes.imshow(to_rgba_array(hexes).reshape(1, num_colors, 4))\n",
    "    axes.spines[:].set_visible(False)\n",
    "    axes.set_xticks(range(num_colors))\n",
    "    axes.set_xticklabels(hexes)\n",
    "    axes.set_yticks([])\n",
    "    if num_colors > 16:\n",
    "        plt.xticks(rotation=30)    \n",
    "    plt.show()\n",
    "\n",
    "print(plot_palette.__doc__)"
   ]
  },
  {
   "cell_type": "markdown",
   "id": "d20ceb05-f6f0-4c91-91c1-890e648cee9b",
   "metadata": {},
   "source": [
    "## Testing"
   ]
  },
  {
   "cell_type": "code",
   "execution_count": 359,
   "id": "c98ed136-0445-4631-8281-e136a60c8c79",
   "metadata": {},
   "outputs": [],
   "source": [
    "first = '#000000'\n",
    "second = '#00ff00'\n",
    "third = '#ffffff'\n",
    "fillers_1_2 = 3\n",
    "fillers_2_3 = 2"
   ]
  },
  {
   "cell_type": "code",
   "execution_count": 360,
   "id": "546689fd-eff3-4608-a0f2-6c3cb664e472",
   "metadata": {},
   "outputs": [
    {
     "data": {
      "image/png": "[encoded data removed]",
      "text/plain": [
       "<Figure size 500x100 with 1 Axes>"
      ]
     },
     "metadata": {},
     "output_type": "display_data"
    }
   ],
   "source": [
    "colors_one =array_hex_colors(first, second, fillers_1_2)\n",
    "plot_palette(colors_one)"
   ]
  },
  {
   "cell_type": "code",
   "execution_count": 361,
   "id": "d6458117-e901-4df6-9a68-f7ec97085ec5",
   "metadata": {},
   "outputs": [
    {
     "data": {
      "image/png": "[encoded data removed]",
      "text/plain": [
       "<Figure size 400x100 with 1 Axes>"
      ]
     },
     "metadata": {},
     "output_type": "display_data"
    }
   ],
   "source": [
    "colors_two =array_hex_colors(second, third, fillers_2_3)\n",
    "plot_palette(colors_two)"
   ]
  },
  {
   "cell_type": "code",
   "execution_count": 362,
   "id": "a381343e-13da-45fd-9e32-b17d716b7803",
   "metadata": {},
   "outputs": [
    {
     "data": {
      "image/png": "[encoded data removed]",
      "text/plain": [
       "<Figure size 800x100 with 1 Axes>"
      ]
     },
     "metadata": {},
     "output_type": "display_data"
    }
   ],
   "source": [
    "full_colors = array_double_hex_colors(first, second, third, fillers_1_2, fillers_2_3)\n",
    "plot_palette(full_colors)"
   ]
  },
  {
   "cell_type": "code",
   "execution_count": 363,
   "id": "6e3752a1-aed8-4463-a1d7-3c7c0821184d",
   "metadata": {},
   "outputs": [
    {
     "data": {
      "image/png": "[encoded data removed]",
      "text/plain": [
       "<Figure size 1600x100 with 1 Axes>"
      ]
     },
     "metadata": {},
     "output_type": "display_data"
    }
   ],
   "source": [
    "plot_palette( array_palette(['#ff0000', '#aa00aa', '#ff00ff', '#f1bef1', '#7ae3eb', '#00ff00', '#f0f095'], \n",
    "                            [ 3,         2,         4,         3,         2,         3,                 ]))"
   ]
  },
  {
   "cell_type": "code",
   "execution_count": null,
   "id": "24ddb91a-08de-4c5f-8b81-bb2a30a143ed",
   "metadata": {},
   "outputs": [],
   "source": []
  }
 ],
 "metadata": {
  "kernelspec": {
   "display_name": "Python 3 (ipykernel)",
   "language": "python",
   "name": "python3"
  },
  "language_info": {
   "codemirror_mode": {
    "name": "ipython",
    "version": 3
   },
   "file_extension": ".py",
   "mimetype": "text/x-python",
   "name": "python",
   "nbconvert_exporter": "python",
   "pygments_lexer": "ipython3",
   "version": "3.12.4"
  }
 },
 "nbformat": 4,
 "nbformat_minor": 5
}
